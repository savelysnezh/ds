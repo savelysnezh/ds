{
 "cells": [
  {
   "cell_type": "markdown",
   "id": "42464802-9a43-4aab-bf13-dcf3a0a93b24",
   "metadata": {},
   "source": [
    "Начнём с простого: сохраните в переменную age произвольный возраст, выраженный целым числом, а в переменную name – какое-нибудь имя в виде строки."
   ]
  },
  {
   "cell_type": "code",
   "execution_count": 1,
   "id": "a521974d-4786-4ce8-a3fb-00f67a0d68b0",
   "metadata": {},
   "outputs": [],
   "source": [
    "age = 20\n",
    "name = 'Alex'"
   ]
  },
  {
   "cell_type": "markdown",
   "id": "febfc233-92a0-461a-928a-3c44964539a7",
   "metadata": {},
   "source": [
    "Создайте список user_info, содержащий 4 элемента в следующем порядке: <br>\n",
    "2 строки (имя и фамилия пользователя)<br>\n",
    "1 дробное число (зарплата)<br>\n",
    "1 целое число (стаж)<br>"
   ]
  },
  {
   "cell_type": "code",
   "execution_count": 3,
   "id": "89ba899a-1cbc-4c2c-a2fa-9678314120ce",
   "metadata": {},
   "outputs": [],
   "source": [
    "user_info = ['Alex', 'Smith', 14.500, 1]"
   ]
  },
  {
   "cell_type": "markdown",
   "id": "ac94c399-f7f6-40fd-8cbe-1dc480d46f03",
   "metadata": {},
   "source": [
    "Поместите в переменную first первый (т.е. нулевой) элемент из списка salaries."
   ]
  },
  {
   "cell_type": "code",
   "execution_count": 4,
   "id": "ee934c1c-1d2f-4ea7-a68f-8519cf650aa0",
   "metadata": {},
   "outputs": [],
   "source": [
    "salaries = [1, 2]\n",
    "first    = salaries[0]"
   ]
  },
  {
   "cell_type": "markdown",
   "id": "7f698f13-2d94-4551-91a3-e5ea8cb7dcd5",
   "metadata": {},
   "source": [
    "Добавьте в уже созданный список users элементы 'Voronov' и 42."
   ]
  },
  {
   "cell_type": "code",
   "execution_count": 5,
   "id": "4a835700-3f6f-477f-993d-fba210753f1d",
   "metadata": {},
   "outputs": [],
   "source": [
    "users = []\n",
    "users.append('Voronov')\n",
    "users.append(42)"
   ]
  },
  {
   "cell_type": "markdown",
   "id": "48ae4647-62ea-4cdc-b8df-5d6f997cb6bb",
   "metadata": {},
   "source": [
    "В переменной user_ages содержится список возрастов клиентов. Напишите цикл, выводящий на печать элементы больше 18."
   ]
  },
  {
   "cell_type": "code",
   "execution_count": 6,
   "id": "859aad46-d7d3-4922-b131-49ba8c2207b0",
   "metadata": {},
   "outputs": [
    {
     "name": "stdout",
     "output_type": "stream",
     "text": [
      "21\n",
      "35\n",
      "42\n",
      "27\n"
     ]
    }
   ],
   "source": [
    "user_ages = [10, 18, 21, 35, 42, 27, 12, 16]\n",
    "\n",
    "for age in user_ages:\n",
    "    if age > 18:\n",
    "        print(age)"
   ]
  },
  {
   "cell_type": "markdown",
   "id": "5beafdff-36be-49d4-99e7-5f03adf9844a",
   "metadata": {},
   "source": [
    "Напишите программу, проверяющую стаж работы сотрудника. В переменной worker уже содержится список, содержащий значения как во 2-м задании (имя, фамилия, зарплата, стаж). Поместите в переменную status следующую строку: <br>\n",
    "user_name user_family is position <br>\n",
    "где user_name и user_family — имя и фамилия сотрудника, а position — одно из следующих значений: <br>\n",
    "'junior' — стаж меньше 2 лет <br>\n",
    "'middle' — стаж больше либо равен 2 лет <br>\n",
    "'senior' — стаж больше 5 лет <br>"
   ]
  },
  {
   "cell_type": "code",
   "execution_count": 7,
   "id": "40b83f89-a816-47f4-bde7-00ce36ecfde4",
   "metadata": {},
   "outputs": [],
   "source": [
    "worker = ['Olya', 'Silyutina', 350000, 3]\n",
    "\n",
    "if worker[3] < 2:\n",
    "    position = 'junior'\n",
    "elif worker[3] >= 2 and worker[3] < 5:\n",
    "    position = 'middle'\n",
    "else:\n",
    "    position = 'senior'\n",
    "\n",
    "status = f'{worker[0]} {worker[1]} is {position}'"
   ]
  },
  {
   "cell_type": "markdown",
   "id": "f6a051c2-64f3-4b47-9897-7d3fddff02e0",
   "metadata": {},
   "source": [
    "В списке values содержатся числовые значения. Создайте список tens и добавьте в него все числа из values, которые делятся на 10 нацело."
   ]
  },
  {
   "cell_type": "code",
   "execution_count": 8,
   "id": "3a61458c-3a62-46ab-a99f-cbd74de5fe32",
   "metadata": {},
   "outputs": [],
   "source": [
    "values = [12, 134, 10, 47, 100, 20, 50, 160, 210]\n",
    "tens = [x for x in values if x%10==0]"
   ]
  },
  {
   "cell_type": "markdown",
   "id": "ba5e664c-9635-42fc-ae0a-888d2224f8c3",
   "metadata": {},
   "source": [
    "Реализуйте цикл, который пробегается по уже созданному списку workers со значениями как в 2-м и 6-м заданиях и выводит для каждого сотрудника следующую строку (то есть печатает её для каждого элемента списка): <br>\n",
    "user_name user_family is position <br>\n",
    "где user_name и user_family — имя и фамилия сотрудника, а position — одна из следующих строк: <br>\n",
    "'junior' — стаж меньше 2 лет <br>\n",
    "'middle' — стаж больше либо равен 2 <br>\n",
    "'senior' — стаж строго больше 5 лет <br>"
   ]
  },
  {
   "cell_type": "code",
   "execution_count": 10,
   "id": "a3d9e1d0-7bd5-4629-a770-5321b01aecb4",
   "metadata": {},
   "outputs": [
    {
     "name": "stdout",
     "output_type": "stream",
     "text": [
      "Ivan Ivanov is middle\n",
      "Petr Petrov is middle\n",
      "Sidor Sidorov is middle\n"
     ]
    }
   ],
   "source": [
    "workers = [['Ivan', 'Ivanov', 100000, 2],\n",
    "           ['Petr', 'Petrov', 150000, 2],\n",
    "           ['Sidor', 'Sidorov', 200000, 3]]\n",
    "\n",
    "for worker in workers:\n",
    "    if worker[3] < 2:\n",
    "        position = 'junior'\n",
    "    elif worker[3] >= 2 and worker[3] < 5:\n",
    "        position = 'middle'\n",
    "    else:\n",
    "        position = 'senior'\n",
    "\n",
    "    print(f'{worker[0]} {worker[1]} is {position}')"
   ]
  },
  {
   "cell_type": "markdown",
   "id": "1569d58b-32a9-48b4-924f-36ddbcff58cf",
   "metadata": {},
   "source": [
    "Поместите в список lst числа от 0 (n = 0) до 10 включительно (N = 10) c шагом 2 (dn = 2). Для этого используйте условие while."
   ]
  },
  {
   "cell_type": "code",
   "execution_count": 11,
   "id": "e3f4e64a-faf1-4cde-84ef-b3ac347e4dd4",
   "metadata": {},
   "outputs": [],
   "source": [
    "n = 0; N = 10; dn = 2; lst =[];\n",
    "while n<=N:\n",
    "    lst.append(n)\n",
    "    n += dn"
   ]
  }
 ],
 "metadata": {
  "kernelspec": {
   "display_name": "Python 3 (ipykernel)",
   "language": "python",
   "name": "python3"
  },
  "language_info": {
   "codemirror_mode": {
    "name": "ipython",
    "version": 3
   },
   "file_extension": ".py",
   "mimetype": "text/x-python",
   "name": "python",
   "nbconvert_exporter": "python",
   "pygments_lexer": "ipython3",
   "version": "3.10.12"
  }
 },
 "nbformat": 4,
 "nbformat_minor": 5
}
