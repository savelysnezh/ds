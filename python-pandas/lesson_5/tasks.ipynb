{
 "cells": [
  {
   "cell_type": "markdown",
   "id": "28bf09cd-95a8-4318-bfb3-f78a873de3f1",
   "metadata": {},
   "source": [
    "Импортируйте пандас и прочитайте данные с кодировкой ISO-8859-1. Запишите полученный датафрейм в retail, а названия колонок сохраните в переменную retail_columns."
   ]
  },
  {
   "cell_type": "code",
   "execution_count": 4,
   "id": "02627a7a-35ea-469d-a916-c0d77d2e1a3a",
   "metadata": {},
   "outputs": [],
   "source": [
    "import pandas as pd"
   ]
  },
  {
   "cell_type": "code",
   "execution_count": 8,
   "id": "c13a7882-0da9-43b4-94db-80313c7feae9",
   "metadata": {},
   "outputs": [
    {
     "data": {
      "text/html": [
       "<div>\n",
       "<style scoped>\n",
       "    .dataframe tbody tr th:only-of-type {\n",
       "        vertical-align: middle;\n",
       "    }\n",
       "\n",
       "    .dataframe tbody tr th {\n",
       "        vertical-align: top;\n",
       "    }\n",
       "\n",
       "    .dataframe thead th {\n",
       "        text-align: right;\n",
       "    }\n",
       "</style>\n",
       "<table border=\"1\" class=\"dataframe\">\n",
       "  <thead>\n",
       "    <tr style=\"text-align: right;\">\n",
       "      <th></th>\n",
       "      <th>InvoiceNo</th>\n",
       "      <th>StockCode</th>\n",
       "      <th>Description</th>\n",
       "      <th>Quantity</th>\n",
       "      <th>InvoiceDate</th>\n",
       "      <th>UnitPrice</th>\n",
       "      <th>CustomerID</th>\n",
       "      <th>Country</th>\n",
       "    </tr>\n",
       "  </thead>\n",
       "  <tbody>\n",
       "    <tr>\n",
       "      <th>0</th>\n",
       "      <td>536365</td>\n",
       "      <td>85123A</td>\n",
       "      <td>WHITE HANGING HEART T-LIGHT HOLDER</td>\n",
       "      <td>6</td>\n",
       "      <td>12/1/2010 8:26</td>\n",
       "      <td>2.55</td>\n",
       "      <td>17850.0</td>\n",
       "      <td>United Kingdom</td>\n",
       "    </tr>\n",
       "    <tr>\n",
       "      <th>1</th>\n",
       "      <td>536365</td>\n",
       "      <td>71053</td>\n",
       "      <td>WHITE METAL LANTERN</td>\n",
       "      <td>6</td>\n",
       "      <td>12/1/2010 8:26</td>\n",
       "      <td>3.39</td>\n",
       "      <td>17850.0</td>\n",
       "      <td>United Kingdom</td>\n",
       "    </tr>\n",
       "    <tr>\n",
       "      <th>2</th>\n",
       "      <td>536365</td>\n",
       "      <td>84406B</td>\n",
       "      <td>CREAM CUPID HEARTS COAT HANGER</td>\n",
       "      <td>8</td>\n",
       "      <td>12/1/2010 8:26</td>\n",
       "      <td>2.75</td>\n",
       "      <td>17850.0</td>\n",
       "      <td>United Kingdom</td>\n",
       "    </tr>\n",
       "    <tr>\n",
       "      <th>3</th>\n",
       "      <td>536365</td>\n",
       "      <td>84029G</td>\n",
       "      <td>KNITTED UNION FLAG HOT WATER BOTTLE</td>\n",
       "      <td>6</td>\n",
       "      <td>12/1/2010 8:26</td>\n",
       "      <td>3.39</td>\n",
       "      <td>17850.0</td>\n",
       "      <td>United Kingdom</td>\n",
       "    </tr>\n",
       "    <tr>\n",
       "      <th>4</th>\n",
       "      <td>536365</td>\n",
       "      <td>84029E</td>\n",
       "      <td>RED WOOLLY HOTTIE WHITE HEART.</td>\n",
       "      <td>6</td>\n",
       "      <td>12/1/2010 8:26</td>\n",
       "      <td>3.39</td>\n",
       "      <td>17850.0</td>\n",
       "      <td>United Kingdom</td>\n",
       "    </tr>\n",
       "  </tbody>\n",
       "</table>\n",
       "</div>"
      ],
      "text/plain": [
       "  InvoiceNo StockCode                          Description  Quantity  \\\n",
       "0    536365    85123A   WHITE HANGING HEART T-LIGHT HOLDER         6   \n",
       "1    536365     71053                  WHITE METAL LANTERN         6   \n",
       "2    536365    84406B       CREAM CUPID HEARTS COAT HANGER         8   \n",
       "3    536365    84029G  KNITTED UNION FLAG HOT WATER BOTTLE         6   \n",
       "4    536365    84029E       RED WOOLLY HOTTIE WHITE HEART.         6   \n",
       "\n",
       "      InvoiceDate  UnitPrice  CustomerID         Country  \n",
       "0  12/1/2010 8:26       2.55     17850.0  United Kingdom  \n",
       "1  12/1/2010 8:26       3.39     17850.0  United Kingdom  \n",
       "2  12/1/2010 8:26       2.75     17850.0  United Kingdom  \n",
       "3  12/1/2010 8:26       3.39     17850.0  United Kingdom  \n",
       "4  12/1/2010 8:26       3.39     17850.0  United Kingdom  "
      ]
     },
     "execution_count": 8,
     "metadata": {},
     "output_type": "execute_result"
    }
   ],
   "source": [
    "pd.read_csv('data.csv', encoding='ISO-8859-1').head()"
   ]
  },
  {
   "cell_type": "code",
   "execution_count": 9,
   "id": "a4ec2aeb-af57-4903-a5d7-e8a8c5976076",
   "metadata": {},
   "outputs": [],
   "source": [
    "retail = pd.read_csv('data.csv', encoding='ISO-8859-1')\n",
    "retail_columns = retail.columns"
   ]
  },
  {
   "cell_type": "markdown",
   "id": "24db72ef-3151-484f-a99a-cd80758e6ba1",
   "metadata": {},
   "source": [
    "Проверьте, встречаются ли в данных повторяющиеся наблюдения. Если они есть, то удалите их из retail."
   ]
  },
  {
   "cell_type": "code",
   "execution_count": 10,
   "id": "71fe3ebb-558f-4cc1-961a-6fe454ad2bf6",
   "metadata": {},
   "outputs": [],
   "source": [
    "retail.drop_duplicates(inplace=True)"
   ]
  },
  {
   "cell_type": "markdown",
   "id": "54f972c6-f9ee-4621-b331-adc746b9b1e5",
   "metadata": {},
   "source": [
    "Данные содержат в себе записи как об успешных транзакциях, так и об отмененных. Если пользователь отменил заказ, в начале номера транзакции (InvoiceNo) ставится C (canceled). \n",
    "<br>\n",
    "Сколько всего транзакций отменили пользователи? "
   ]
  },
  {
   "cell_type": "code",
   "execution_count": 11,
   "id": "1ec2de8e-6016-4525-b37e-982b1b5e58ab",
   "metadata": {},
   "outputs": [
    {
     "data": {
      "text/plain": [
       "9251"
      ]
     },
     "execution_count": 11,
     "metadata": {},
     "output_type": "execute_result"
    }
   ],
   "source": [
    "retail.InvoiceNo.str.startswith('C').sum()"
   ]
  },
  {
   "cell_type": "markdown",
   "id": "1d18510c-73d4-40d2-b539-2203523331f7",
   "metadata": {},
   "source": [
    "Теперь отфильтруйте данные и оставьте в retail только те заказы, где Quantity > 0."
   ]
  },
  {
   "cell_type": "code",
   "execution_count": 12,
   "id": "568e3b48-c539-4ae4-b0b5-0b6890b66d03",
   "metadata": {},
   "outputs": [],
   "source": [
    "retail = retail.query('Quantity > 0')"
   ]
  },
  {
   "cell_type": "markdown",
   "id": "bfb7cc02-0daa-4f7f-9b6c-f7ccdc8296a3",
   "metadata": {},
   "source": [
    "Посчитайте число заказов для каждого пользователя (CustomerID) из Германии (Germany). Оставьте только тех, кто совершил более N транзакций (InvoiceNo), где N – 80% процентиль. Запишите полученные id пользователей в germany_top (не весь датафрейм, только id)."
   ]
  },
  {
   "cell_type": "code",
   "execution_count": 13,
   "id": "d9b96369-3398-42b8-b5d0-ac72bbdb0f09",
   "metadata": {},
   "outputs": [],
   "source": [
    "germany_top = retail \\\n",
    "                    .query('Country == \"Germany\"') \\\n",
    "                    .groupby('CustomerID', as_index=False) \\\n",
    "                    .agg({'InvoiceNo':'nunique'})\n",
    "\n",
    "germany_top = germany_top[germany_top.InvoiceNo > germany_top.InvoiceNo.quantile(q=0.80)].CustomerID"
   ]
  },
  {
   "cell_type": "markdown",
   "id": "4b6487d2-6491-4d41-8571-c61e4129620d",
   "metadata": {},
   "source": [
    "Используя объект с id пользователей (germany_top), полученный на предыдущем шаге, отфильтруйте наблюдения и оставьте в данных записи только по интересующим нас юзерам. Результирующий датафрейм запишите в top_retail_germany."
   ]
  },
  {
   "cell_type": "code",
   "execution_count": 14,
   "id": "d8d2b851-883b-43d0-a810-82c38681ccc7",
   "metadata": {},
   "outputs": [],
   "source": [
    "top_retail_germany = retail.query('CustomerID in @germany_top')"
   ]
  },
  {
   "cell_type": "markdown",
   "id": "80ca528b-ecf6-4c7e-82a8-5919dcb2f63c",
   "metadata": {},
   "source": [
    "Сгруппируйте top_retail_germany по коду товара (StockCode). Какой из продуктов добавляли в корзину чаще всего, кроме POST? <br>\n",
    "Note: одним заказом считается единовременная покупка любого количества товара, т.е. без учета Quantity."
   ]
  },
  {
   "cell_type": "code",
   "execution_count": 16,
   "id": "fbd1ca7f-3afe-4565-abbc-fe688505cfa5",
   "metadata": {},
   "outputs": [
    {
     "data": {
      "text/plain": [
       "StockCode\n",
       "POST     213\n",
       "22326     52\n",
       "22328     38\n",
       "22423     34\n",
       "20719     30\n",
       "Name: count, dtype: int64"
      ]
     },
     "execution_count": 16,
     "metadata": {},
     "output_type": "execute_result"
    }
   ],
   "source": [
    "top_retail_germany.StockCode.value_counts().head()"
   ]
  },
  {
   "cell_type": "code",
   "execution_count": 17,
   "id": "d65dc7d8-b465-4f10-b294-b06e3ad8295b",
   "metadata": {},
   "outputs": [],
   "source": [
    "# 22326"
   ]
  },
  {
   "cell_type": "markdown",
   "id": "a6a2d49c-32e2-4624-b68f-abb7a83aa7b4",
   "metadata": {},
   "source": [
    "Вернемся к анализу полного датасета retail. Создайте колонку Revenue с суммой покупки, используя колонки Quantity и UnitPrice."
   ]
  },
  {
   "cell_type": "code",
   "execution_count": 18,
   "id": "e9af089c-13ec-4804-9fd7-0c80ccd8a92c",
   "metadata": {},
   "outputs": [],
   "source": [
    "retail['Revenue'] = retail.Quantity * retail.UnitPrice"
   ]
  },
  {
   "cell_type": "markdown",
   "id": "9c311bce-4e37-495f-9ef5-2e4cc84d8aa0",
   "metadata": {},
   "source": [
    "Для каждой транзакции (InvoiceNo), посчитайте финальную сумму заказа. В качестве ответа укажите топ-5 (InvoiceNo) по сумме заказа (через запятую с пробелом и в порядке убывания TotalRevenue)"
   ]
  },
  {
   "cell_type": "code",
   "execution_count": 20,
   "id": "5ef89c0b-0c13-469a-abb2-350552abaf7a",
   "metadata": {},
   "outputs": [
    {
     "data": {
      "text/plain": [
       "'581483, 541431, 574941, 576365, 556444'"
      ]
     },
     "execution_count": 20,
     "metadata": {},
     "output_type": "execute_result"
    }
   ],
   "source": [
    "sorted_revenues = retail.groupby('InvoiceNo', as_index=False) \\\n",
    "                        .agg({'Revenue':'sum'}) \\\n",
    "                        .sort_values('Revenue', ascending=False) \\\n",
    "                        .head(5)\n",
    "sorted_revenues.InvoiceNo[:5].str.cat(sep=', ')"
   ]
  }
 ],
 "metadata": {
  "kernelspec": {
   "display_name": "Python 3 (ipykernel)",
   "language": "python",
   "name": "python3"
  },
  "language_info": {
   "codemirror_mode": {
    "name": "ipython",
    "version": 3
   },
   "file_extension": ".py",
   "mimetype": "text/x-python",
   "name": "python",
   "nbconvert_exporter": "python",
   "pygments_lexer": "ipython3",
   "version": "3.8.10"
  }
 },
 "nbformat": 4,
 "nbformat_minor": 5
}
