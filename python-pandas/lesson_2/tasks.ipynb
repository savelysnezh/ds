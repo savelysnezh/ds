{
 "cells": [
  {
   "cell_type": "markdown",
   "id": "d9eee17c-5787-41d5-860e-3a0fc44b25a7",
   "metadata": {},
   "source": [
    "Что произойдет в результате выполнения следующей команды? <br>\n",
    "import pandas as pnds"
   ]
  },
  {
   "cell_type": "code",
   "execution_count": 2,
   "id": "119c46f5-63de-43db-9512-17bd941b89bd",
   "metadata": {},
   "outputs": [],
   "source": [
    "# Сможем использовать библиотеку pandas, обращаясь к ней как pnds"
   ]
  },
  {
   "cell_type": "markdown",
   "id": "86b7d471-ac70-4d52-9656-e906f8bff9f8",
   "metadata": {},
   "source": [
    "Перед тем, как приступать к работе, давайте загрузим данные. Предположим, что данные лежат в переменной path_to_file (path_to_file = \"/some/path/to/file.csv\"). Импортируйте библиотеку pandas, а затем загрузите данные. <br>\n",
    "Результат сохраните в переменную taxi."
   ]
  },
  {
   "cell_type": "code",
   "execution_count": 5,
   "id": "91039f60-5b52-4040-bb3f-c25f266c84c8",
   "metadata": {},
   "outputs": [],
   "source": [
    "path_to_file = '2_taxi_nyc.csv'\n",
    "\n",
    "import pandas as pd\n",
    "taxi = pd.read_csv(path_to_file)"
   ]
  },
  {
   "cell_type": "markdown",
   "id": "5daa9609-b485-4041-89d8-f5cef99120ac",
   "metadata": {},
   "source": [
    "Проверьте, сколько всего строк и столбцов имеется в датасете."
   ]
  },
  {
   "cell_type": "code",
   "execution_count": 6,
   "id": "8cd5777d-d33f-4193-b42d-d20b32367b43",
   "metadata": {},
   "outputs": [
    {
     "data": {
      "text/plain": [
       "(29101, 14)"
      ]
     },
     "execution_count": 6,
     "metadata": {},
     "output_type": "execute_result"
    }
   ],
   "source": [
    "taxi.shape"
   ]
  },
  {
   "cell_type": "code",
   "execution_count": 17,
   "id": "f67a8341-ed6c-45f3-9da3-e05dcf9a7ede",
   "metadata": {},
   "outputs": [],
   "source": [
    "# 29101"
   ]
  },
  {
   "cell_type": "markdown",
   "id": "762bd28a-47ef-4982-94a4-41b7dffef5c4",
   "metadata": {},
   "source": [
    "Давайте посмотрим на типы колонок. Все ли из них считались правильно?"
   ]
  },
  {
   "cell_type": "code",
   "execution_count": 8,
   "id": "a35d7655-345b-4fe3-ae63-a2a80bf4ff70",
   "metadata": {},
   "outputs": [
    {
     "data": {
      "text/plain": [
       "pickup_dt        object\n",
       "pickup_month     object\n",
       "borough          object\n",
       "pickups           int64\n",
       "hday             object\n",
       "spd             float64\n",
       "vsb             float64\n",
       "temp            float64\n",
       "dewp            float64\n",
       "slp             float64\n",
       "pcp 01          float64\n",
       "pcp 06          float64\n",
       "pcp 24          float64\n",
       "sd              float64\n",
       "dtype: object"
      ]
     },
     "execution_count": 8,
     "metadata": {},
     "output_type": "execute_result"
    }
   ],
   "source": [
    "taxi.dtypes"
   ]
  },
  {
   "cell_type": "code",
   "execution_count": 16,
   "id": "3d18c2c1-9887-4559-84b7-86655143d016",
   "metadata": {},
   "outputs": [],
   "source": [
    "# float64"
   ]
  },
  {
   "cell_type": "markdown",
   "id": "79f6094a-5fbd-49f0-9cf3-f0a667fe3985",
   "metadata": {},
   "source": [
    "В названиях столбцов pcp 01, pcp 06, pcp 24 встречается пробел. Это не очень удобно, если в дальнейшем вы планируете обращаться к колонкам через точку, без использования кавычек и скобочек. \n",
    "<br>\n",
    "Замените пробел в названиях на знак нижнего подчеркивания. \n",
    "<br>\n",
    "Данные сохранены в переменную taxi. Данные должны быть изменены в этом же датафрейме."
   ]
  },
  {
   "cell_type": "code",
   "execution_count": 9,
   "id": "fe5d4e4b-c919-4aa3-9095-fd041caa66aa",
   "metadata": {},
   "outputs": [],
   "source": [
    "taxi = taxi.rename(columns={\n",
    "    \"pcp 01\":\"pcp_01\",\n",
    "    \"pcp 06\":\"pcp_06\",\n",
    "    \"pcp 24\":\"pcp_24\"\n",
    "})"
   ]
  },
  {
   "cell_type": "markdown",
   "id": "18db79c3-26f1-4e13-a37f-c110b0843490",
   "metadata": {},
   "source": [
    "Вас попросили узнать, сколько записей (строк) в датафрейме относятся к району Манхэттен (Manhattan). Получить ответ на данный вопрос можно было бы, например, с помощью следующей команды: <br>\n",
    "taxi.query(\"borough == 'Manhattan'\").shape[0] <br>\n",
    "А если мы хотим посмотреть, сколько раз встречается каждый из районов? Неужели придется использовать подобную конструкцию для каждого уровня переменной? Здесь на помощь приходит метод value_counts(), <br>\n",
    "Сколько раз в данных встречается район Бруклин (Brooklyn)?"
   ]
  },
  {
   "cell_type": "code",
   "execution_count": 11,
   "id": "8060fb3e-166b-437f-9817-1f05a4294bf0",
   "metadata": {},
   "outputs": [
    {
     "data": {
      "text/plain": [
       "borough\n",
       "Bronx            4343\n",
       "Brooklyn         4343\n",
       "EWR              4343\n",
       "Manhattan        4343\n",
       "Queens           4343\n",
       "Staten Island    4343\n",
       "Name: count, dtype: int64"
      ]
     },
     "execution_count": 11,
     "metadata": {},
     "output_type": "execute_result"
    }
   ],
   "source": [
    "taxi.borough.value_counts()"
   ]
  },
  {
   "cell_type": "code",
   "execution_count": 15,
   "id": "1107235e-522f-4485-a650-d2fd64a06989",
   "metadata": {},
   "outputs": [],
   "source": [
    "# 4343"
   ]
  },
  {
   "cell_type": "markdown",
   "id": "9495e122-f77e-4eaf-a522-ebf661f86933",
   "metadata": {},
   "source": [
    "Следующая задача: выяснить, из какого района было совершено наибольшее количество поездок за весь период. \n",
    "\n",
    "Для начала, посчитайте общее количество поездок (pickups), без группировки."
   ]
  },
  {
   "cell_type": "code",
   "execution_count": 12,
   "id": "01cb4569-8993-42af-85fa-60130a65b92d",
   "metadata": {},
   "outputs": [
    {
     "data": {
      "text/plain": [
       "14265773"
      ]
     },
     "execution_count": 12,
     "metadata": {},
     "output_type": "execute_result"
    }
   ],
   "source": [
    "taxi.pickups.sum()"
   ]
  },
  {
   "cell_type": "markdown",
   "id": "cfb847d0-77b8-4ed8-a9ca-56b2f610dc0d",
   "metadata": {},
   "source": [
    "А теперь сгруппируйте данные по району (borough) и укажите, из какого пункта было совершено больше всего поездок."
   ]
  },
  {
   "cell_type": "code",
   "execution_count": 13,
   "id": "5b5db3e3-b124-4b27-96bf-90c61cad7d6d",
   "metadata": {},
   "outputs": [
    {
     "data": {
      "text/html": [
       "<div>\n",
       "<style scoped>\n",
       "    .dataframe tbody tr th:only-of-type {\n",
       "        vertical-align: middle;\n",
       "    }\n",
       "\n",
       "    .dataframe tbody tr th {\n",
       "        vertical-align: top;\n",
       "    }\n",
       "\n",
       "    .dataframe thead th {\n",
       "        text-align: right;\n",
       "    }\n",
       "</style>\n",
       "<table border=\"1\" class=\"dataframe\">\n",
       "  <thead>\n",
       "    <tr style=\"text-align: right;\">\n",
       "      <th></th>\n",
       "      <th>pickups</th>\n",
       "    </tr>\n",
       "    <tr>\n",
       "      <th>borough</th>\n",
       "      <th></th>\n",
       "    </tr>\n",
       "  </thead>\n",
       "  <tbody>\n",
       "    <tr>\n",
       "      <th>Bronx</th>\n",
       "      <td>220047</td>\n",
       "    </tr>\n",
       "    <tr>\n",
       "      <th>Brooklyn</th>\n",
       "      <td>2321035</td>\n",
       "    </tr>\n",
       "    <tr>\n",
       "      <th>EWR</th>\n",
       "      <td>105</td>\n",
       "    </tr>\n",
       "    <tr>\n",
       "      <th>Manhattan</th>\n",
       "      <td>10367841</td>\n",
       "    </tr>\n",
       "    <tr>\n",
       "      <th>Queens</th>\n",
       "      <td>1343528</td>\n",
       "    </tr>\n",
       "    <tr>\n",
       "      <th>Staten Island</th>\n",
       "      <td>6957</td>\n",
       "    </tr>\n",
       "  </tbody>\n",
       "</table>\n",
       "</div>"
      ],
      "text/plain": [
       "                pickups\n",
       "borough                \n",
       "Bronx            220047\n",
       "Brooklyn        2321035\n",
       "EWR                 105\n",
       "Manhattan      10367841\n",
       "Queens          1343528\n",
       "Staten Island      6957"
      ]
     },
     "execution_count": 13,
     "metadata": {},
     "output_type": "execute_result"
    }
   ],
   "source": [
    "taxi.groupby('borough').agg({'pickups':'sum'})"
   ]
  },
  {
   "cell_type": "code",
   "execution_count": 14,
   "id": "3c6f010d-871e-4930-be46-b9cd03ab0cc6",
   "metadata": {},
   "outputs": [],
   "source": [
    "# Manhattan"
   ]
  },
  {
   "cell_type": "markdown",
   "id": "0f325002-fd90-4356-839a-4631786eba1e",
   "metadata": {},
   "source": [
    "Возможно, в предыдущем степе вы просто посмотрели на данные или отсортировали значения. Ускорить данный процесс в дальнейшем помогут методы idxmin() и idxmax(), которые возвращают индекс минимального или максимального значения. <br>\n",
    "Сохраните название района с наименьшим числом поездок в переменную min_pickups, применив подходящий метод.<br>\n",
    "Данные сохранены в переменную taxi."
   ]
  },
  {
   "cell_type": "code",
   "execution_count": 18,
   "id": "e76ed624-66d7-4c5b-8e93-2b45fa5c6cf5",
   "metadata": {},
   "outputs": [],
   "source": [
    "min_pickups = taxi.groupby('borough').agg({'pickups':'sum'}).idxmin()"
   ]
  },
  {
   "cell_type": "markdown",
   "id": "164d63cb-4b32-47f2-8340-3f7d73120ce2",
   "metadata": {},
   "source": [
    "Продолжим изучение данных и посмотрим на число поездок в выходные дни. Сгруппируйте данные по двум признакам: району города и является ли день выходным (колонки borough и hday). Сравните среднее число поездок, и выберите районы, из которых по праздникам в среднем поступает больше заказов, чем в обычные дни. "
   ]
  },
  {
   "cell_type": "code",
   "execution_count": 19,
   "id": "a70cd1aa-899f-446f-8d59-a0074c00ec11",
   "metadata": {},
   "outputs": [
    {
     "data": {
      "text/html": [
       "<div>\n",
       "<style scoped>\n",
       "    .dataframe tbody tr th:only-of-type {\n",
       "        vertical-align: middle;\n",
       "    }\n",
       "\n",
       "    .dataframe tbody tr th {\n",
       "        vertical-align: top;\n",
       "    }\n",
       "\n",
       "    .dataframe thead th {\n",
       "        text-align: right;\n",
       "    }\n",
       "</style>\n",
       "<table border=\"1\" class=\"dataframe\">\n",
       "  <thead>\n",
       "    <tr style=\"text-align: right;\">\n",
       "      <th></th>\n",
       "      <th>pickup_dt</th>\n",
       "      <th>pickup_month</th>\n",
       "      <th>borough</th>\n",
       "      <th>pickups</th>\n",
       "      <th>hday</th>\n",
       "      <th>spd</th>\n",
       "      <th>vsb</th>\n",
       "      <th>temp</th>\n",
       "      <th>dewp</th>\n",
       "      <th>slp</th>\n",
       "      <th>pcp_01</th>\n",
       "      <th>pcp_06</th>\n",
       "      <th>pcp_24</th>\n",
       "      <th>sd</th>\n",
       "    </tr>\n",
       "  </thead>\n",
       "  <tbody>\n",
       "    <tr>\n",
       "      <th>0</th>\n",
       "      <td>2015-01-01 01:00:00</td>\n",
       "      <td>Jan</td>\n",
       "      <td>Bronx</td>\n",
       "      <td>152</td>\n",
       "      <td>Y</td>\n",
       "      <td>5.0</td>\n",
       "      <td>10.0</td>\n",
       "      <td>30.0</td>\n",
       "      <td>7.0</td>\n",
       "      <td>1023.5</td>\n",
       "      <td>0.0</td>\n",
       "      <td>0.0</td>\n",
       "      <td>0.0</td>\n",
       "      <td>0.0</td>\n",
       "    </tr>\n",
       "    <tr>\n",
       "      <th>1</th>\n",
       "      <td>2015-01-01 01:00:00</td>\n",
       "      <td>Jan</td>\n",
       "      <td>Brooklyn</td>\n",
       "      <td>1519</td>\n",
       "      <td>Y</td>\n",
       "      <td>5.0</td>\n",
       "      <td>10.0</td>\n",
       "      <td>30.0</td>\n",
       "      <td>7.0</td>\n",
       "      <td>1023.5</td>\n",
       "      <td>0.0</td>\n",
       "      <td>0.0</td>\n",
       "      <td>0.0</td>\n",
       "      <td>0.0</td>\n",
       "    </tr>\n",
       "    <tr>\n",
       "      <th>2</th>\n",
       "      <td>2015-01-01 01:00:00</td>\n",
       "      <td>Jan</td>\n",
       "      <td>EWR</td>\n",
       "      <td>0</td>\n",
       "      <td>Y</td>\n",
       "      <td>5.0</td>\n",
       "      <td>10.0</td>\n",
       "      <td>30.0</td>\n",
       "      <td>7.0</td>\n",
       "      <td>1023.5</td>\n",
       "      <td>0.0</td>\n",
       "      <td>0.0</td>\n",
       "      <td>0.0</td>\n",
       "      <td>0.0</td>\n",
       "    </tr>\n",
       "    <tr>\n",
       "      <th>3</th>\n",
       "      <td>2015-01-01 01:00:00</td>\n",
       "      <td>Jan</td>\n",
       "      <td>Manhattan</td>\n",
       "      <td>5258</td>\n",
       "      <td>Y</td>\n",
       "      <td>5.0</td>\n",
       "      <td>10.0</td>\n",
       "      <td>30.0</td>\n",
       "      <td>7.0</td>\n",
       "      <td>1023.5</td>\n",
       "      <td>0.0</td>\n",
       "      <td>0.0</td>\n",
       "      <td>0.0</td>\n",
       "      <td>0.0</td>\n",
       "    </tr>\n",
       "    <tr>\n",
       "      <th>4</th>\n",
       "      <td>2015-01-01 01:00:00</td>\n",
       "      <td>Jan</td>\n",
       "      <td>Queens</td>\n",
       "      <td>405</td>\n",
       "      <td>Y</td>\n",
       "      <td>5.0</td>\n",
       "      <td>10.0</td>\n",
       "      <td>30.0</td>\n",
       "      <td>7.0</td>\n",
       "      <td>1023.5</td>\n",
       "      <td>0.0</td>\n",
       "      <td>0.0</td>\n",
       "      <td>0.0</td>\n",
       "      <td>0.0</td>\n",
       "    </tr>\n",
       "  </tbody>\n",
       "</table>\n",
       "</div>"
      ],
      "text/plain": [
       "             pickup_dt pickup_month    borough  pickups hday  spd   vsb  temp  \\\n",
       "0  2015-01-01 01:00:00          Jan      Bronx      152    Y  5.0  10.0  30.0   \n",
       "1  2015-01-01 01:00:00          Jan   Brooklyn     1519    Y  5.0  10.0  30.0   \n",
       "2  2015-01-01 01:00:00          Jan        EWR        0    Y  5.0  10.0  30.0   \n",
       "3  2015-01-01 01:00:00          Jan  Manhattan     5258    Y  5.0  10.0  30.0   \n",
       "4  2015-01-01 01:00:00          Jan     Queens      405    Y  5.0  10.0  30.0   \n",
       "\n",
       "   dewp     slp  pcp_01  pcp_06  pcp_24   sd  \n",
       "0   7.0  1023.5     0.0     0.0     0.0  0.0  \n",
       "1   7.0  1023.5     0.0     0.0     0.0  0.0  \n",
       "2   7.0  1023.5     0.0     0.0     0.0  0.0  \n",
       "3   7.0  1023.5     0.0     0.0     0.0  0.0  \n",
       "4   7.0  1023.5     0.0     0.0     0.0  0.0  "
      ]
     },
     "execution_count": 19,
     "metadata": {},
     "output_type": "execute_result"
    }
   ],
   "source": [
    "taxi.head()"
   ]
  },
  {
   "cell_type": "code",
   "execution_count": 20,
   "id": "5857b344-7579-4daa-bb23-c8daac67507c",
   "metadata": {},
   "outputs": [
    {
     "data": {
      "text/html": [
       "<div>\n",
       "<style scoped>\n",
       "    .dataframe tbody tr th:only-of-type {\n",
       "        vertical-align: middle;\n",
       "    }\n",
       "\n",
       "    .dataframe tbody tr th {\n",
       "        vertical-align: top;\n",
       "    }\n",
       "\n",
       "    .dataframe thead th {\n",
       "        text-align: right;\n",
       "    }\n",
       "</style>\n",
       "<table border=\"1\" class=\"dataframe\">\n",
       "  <thead>\n",
       "    <tr style=\"text-align: right;\">\n",
       "      <th></th>\n",
       "      <th>borough</th>\n",
       "      <th>hday</th>\n",
       "      <th>pickups</th>\n",
       "    </tr>\n",
       "  </thead>\n",
       "  <tbody>\n",
       "    <tr>\n",
       "      <th>0</th>\n",
       "      <td>Bronx</td>\n",
       "      <td>N</td>\n",
       "      <td>50.771073</td>\n",
       "    </tr>\n",
       "    <tr>\n",
       "      <th>1</th>\n",
       "      <td>Bronx</td>\n",
       "      <td>Y</td>\n",
       "      <td>48.065868</td>\n",
       "    </tr>\n",
       "    <tr>\n",
       "      <th>2</th>\n",
       "      <td>Brooklyn</td>\n",
       "      <td>N</td>\n",
       "      <td>534.727969</td>\n",
       "    </tr>\n",
       "    <tr>\n",
       "      <th>3</th>\n",
       "      <td>Brooklyn</td>\n",
       "      <td>Y</td>\n",
       "      <td>527.011976</td>\n",
       "    </tr>\n",
       "    <tr>\n",
       "      <th>4</th>\n",
       "      <td>EWR</td>\n",
       "      <td>N</td>\n",
       "      <td>0.023467</td>\n",
       "    </tr>\n",
       "    <tr>\n",
       "      <th>5</th>\n",
       "      <td>EWR</td>\n",
       "      <td>Y</td>\n",
       "      <td>0.041916</td>\n",
       "    </tr>\n",
       "    <tr>\n",
       "      <th>6</th>\n",
       "      <td>Manhattan</td>\n",
       "      <td>N</td>\n",
       "      <td>2401.302921</td>\n",
       "    </tr>\n",
       "    <tr>\n",
       "      <th>7</th>\n",
       "      <td>Manhattan</td>\n",
       "      <td>Y</td>\n",
       "      <td>2035.928144</td>\n",
       "    </tr>\n",
       "    <tr>\n",
       "      <th>8</th>\n",
       "      <td>Queens</td>\n",
       "      <td>N</td>\n",
       "      <td>308.899904</td>\n",
       "    </tr>\n",
       "    <tr>\n",
       "      <th>9</th>\n",
       "      <td>Queens</td>\n",
       "      <td>Y</td>\n",
       "      <td>320.730539</td>\n",
       "    </tr>\n",
       "    <tr>\n",
       "      <th>10</th>\n",
       "      <td>Staten Island</td>\n",
       "      <td>N</td>\n",
       "      <td>1.606082</td>\n",
       "    </tr>\n",
       "    <tr>\n",
       "      <th>11</th>\n",
       "      <td>Staten Island</td>\n",
       "      <td>Y</td>\n",
       "      <td>1.497006</td>\n",
       "    </tr>\n",
       "  </tbody>\n",
       "</table>\n",
       "</div>"
      ],
      "text/plain": [
       "          borough hday      pickups\n",
       "0           Bronx    N    50.771073\n",
       "1           Bronx    Y    48.065868\n",
       "2        Brooklyn    N   534.727969\n",
       "3        Brooklyn    Y   527.011976\n",
       "4             EWR    N     0.023467\n",
       "5             EWR    Y     0.041916\n",
       "6       Manhattan    N  2401.302921\n",
       "7       Manhattan    Y  2035.928144\n",
       "8          Queens    N   308.899904\n",
       "9          Queens    Y   320.730539\n",
       "10  Staten Island    N     1.606082\n",
       "11  Staten Island    Y     1.497006"
      ]
     },
     "execution_count": 20,
     "metadata": {},
     "output_type": "execute_result"
    }
   ],
   "source": [
    "taxi.groupby(['borough','hday'], as_index=False).agg({'pickups':'mean'})"
   ]
  },
  {
   "cell_type": "code",
   "execution_count": 21,
   "id": "ab36e44d-6766-47bf-b349-5e0fbf1ea924",
   "metadata": {},
   "outputs": [],
   "source": [
    "# EWR, Queens"
   ]
  },
  {
   "cell_type": "markdown",
   "id": "7719c101-3112-43c6-94fb-f82f81dc28a4",
   "metadata": {},
   "source": [
    "Для каждого района посчитайте число поездок по месяцам. Отсортируйте полученные значения по убыванию и сохраните результирующий датафрейм в pickups_by_mon_bor. "
   ]
  },
  {
   "cell_type": "code",
   "execution_count": 22,
   "id": "123ad2a3-e039-4383-b687-c8696f697d2b",
   "metadata": {},
   "outputs": [],
   "source": [
    "pickups_by_mon_bor = taxi \\\n",
    "    .groupby(['pickup_month','borough'], as_index=False) \\\n",
    "    .agg({'pickups':'sum'}) \\\n",
    "    .sort_values('pickups', ascending=False)"
   ]
  },
  {
   "cell_type": "markdown",
   "id": "c6517cec-4b36-4160-abf2-976f2922a2e0",
   "metadata": {},
   "source": [
    "Напишите функцию temp_to_celcius, которая получает на вход колонку с температурой в °F, и возвращает значения, переведенные в градусы Цельсия."
   ]
  },
  {
   "cell_type": "code",
   "execution_count": 23,
   "id": "8a7553ee-1c51-4d7b-98f2-437610228bd0",
   "metadata": {},
   "outputs": [],
   "source": [
    "def temp_to_celcius(els):\n",
    "    new_els = []\n",
    "    for i in els:\n",
    "        cel = ((i - 32)*5)/9\n",
    "        new_els.append(cel)\n",
    "    return pd.Series(new_els)"
   ]
  }
 ],
 "metadata": {
  "kernelspec": {
   "display_name": "Python 3 (ipykernel)",
   "language": "python",
   "name": "python3"
  },
  "language_info": {
   "codemirror_mode": {
    "name": "ipython",
    "version": 3
   },
   "file_extension": ".py",
   "mimetype": "text/x-python",
   "name": "python",
   "nbconvert_exporter": "python",
   "pygments_lexer": "ipython3",
   "version": "3.8.10"
  }
 },
 "nbformat": 4,
 "nbformat_minor": 5
}
