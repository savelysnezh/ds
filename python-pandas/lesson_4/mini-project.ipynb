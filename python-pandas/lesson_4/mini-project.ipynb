{
 "cells": [
  {
   "cell_type": "markdown",
   "id": "39b8292d-12c2-47cb-aaf5-fde3537cea9b",
   "metadata": {},
   "source": [
    "# Задачи"
   ]
  },
  {
   "cell_type": "markdown",
   "id": "9f8ec30d-d13b-4fe2-bccc-7d2d2c9cc9fb",
   "metadata": {},
   "source": [
    "1. Соберите все данные из папки data в один датафрэйм, имеющий следующие столбцы: колонки из самих файлов (product_id, quantity), а также имя пользователя (name), и дата этих покупок (date), соответствует названию папки, где лежит папка с пользователем)"
   ]
  },
  {
   "cell_type": "markdown",
   "id": "f21e463e-31e2-4984-83b9-2fb908b7acb6",
   "metadata": {},
   "source": [
    "2. Выясните, какой пользователь купил больше всего товаров. Если их несколько, то перечислите имена через запятую с пробелом и в алфавитном порядке."
   ]
  },
  {
   "cell_type": "markdown",
   "id": "6640bebc-eace-48b3-ad6f-7f5e3136f915",
   "metadata": {},
   "source": [
    "3. Найдите топ-10 товаров по числу проданных единиц за всё время и постройте барплот."
   ]
  },
  {
   "cell_type": "markdown",
   "id": "a2c8a744-6dbd-485d-ae9d-7709b0be37b9",
   "metadata": {},
   "source": [
    "4. Визуализируйте продажи по дням."
   ]
  },
  {
   "cell_type": "markdown",
   "id": "3b14fdc5-2b73-4761-b899-4a4873ae48e5",
   "metadata": {},
   "source": [
    "5. Сколько пользователей приобрели какой-либо товар повторно (более 1 раза)? Повтором будем считать покупку товара с одинаковым product_id, совершенную в разные дни. "
   ]
  },
  {
   "cell_type": "markdown",
   "id": "b0f16031-5f74-4ae2-80b6-c5bed7a47986",
   "metadata": {},
   "source": [
    "---"
   ]
  },
  {
   "cell_type": "code",
   "execution_count": 51,
   "id": "1eec17a3-22be-4d36-b8a9-2f0523bf0acf",
   "metadata": {},
   "outputs": [],
   "source": [
    "# 1\n",
    "import pandas as pd\n",
    "import os"
   ]
  },
  {
   "cell_type": "code",
   "execution_count": 52,
   "id": "1cd2fcf2-828c-4cdd-a991-898b878c1d7e",
   "metadata": {},
   "outputs": [],
   "source": [
    "path = '/home/savely/kc/python/lesson_4/data/'"
   ]
  },
  {
   "cell_type": "code",
   "execution_count": 53,
   "id": "26616b95-2563-4345-970a-5cfe4b5f8094",
   "metadata": {},
   "outputs": [],
   "source": [
    "df = pd.DataFrame()\n",
    "\n",
    "for cur_path, dirs, files in os.walk(path):\n",
    "    for file in files:\n",
    "        data_path = f'{cur_path}/{file}'\n",
    "\n",
    "        temp_df = pd.read_csv(data_path)\n",
    "\n",
    "        path_parts = cur_path.split('/')\n",
    "        date = path_parts[-2]\n",
    "        name = path_parts[-1]\n",
    "\n",
    "        temp_df['date'] = date\n",
    "        temp_df['name'] = name\n",
    "\n",
    "        df = pd.concat((df, temp_df))"
   ]
  },
  {
   "cell_type": "code",
   "execution_count": 54,
   "id": "4e6f7b8e-55f2-4ef5-a6d3-9f0d9b6525fd",
   "metadata": {},
   "outputs": [
    {
     "data": {
      "text/html": [
       "<div>\n",
       "<style scoped>\n",
       "    .dataframe tbody tr th:only-of-type {\n",
       "        vertical-align: middle;\n",
       "    }\n",
       "\n",
       "    .dataframe tbody tr th {\n",
       "        vertical-align: top;\n",
       "    }\n",
       "\n",
       "    .dataframe thead th {\n",
       "        text-align: right;\n",
       "    }\n",
       "</style>\n",
       "<table border=\"1\" class=\"dataframe\">\n",
       "  <thead>\n",
       "    <tr style=\"text-align: right;\">\n",
       "      <th></th>\n",
       "      <th>product_id</th>\n",
       "      <th>quantity</th>\n",
       "      <th>date</th>\n",
       "      <th>name</th>\n",
       "    </tr>\n",
       "  </thead>\n",
       "  <tbody>\n",
       "    <tr>\n",
       "      <th>0</th>\n",
       "      <td>73</td>\n",
       "      <td>5</td>\n",
       "      <td>2020-12-08</td>\n",
       "      <td>Alexey_Fedorov</td>\n",
       "    </tr>\n",
       "    <tr>\n",
       "      <th>1</th>\n",
       "      <td>34</td>\n",
       "      <td>1</td>\n",
       "      <td>2020-12-08</td>\n",
       "      <td>Alexey_Fedorov</td>\n",
       "    </tr>\n",
       "    <tr>\n",
       "      <th>2</th>\n",
       "      <td>71</td>\n",
       "      <td>1</td>\n",
       "      <td>2020-12-08</td>\n",
       "      <td>Alexey_Fedorov</td>\n",
       "    </tr>\n",
       "    <tr>\n",
       "      <th>3</th>\n",
       "      <td>18</td>\n",
       "      <td>2</td>\n",
       "      <td>2020-12-08</td>\n",
       "      <td>Alexey_Fedorov</td>\n",
       "    </tr>\n",
       "    <tr>\n",
       "      <th>4</th>\n",
       "      <td>67</td>\n",
       "      <td>2</td>\n",
       "      <td>2020-12-08</td>\n",
       "      <td>Alexey_Fedorov</td>\n",
       "    </tr>\n",
       "  </tbody>\n",
       "</table>\n",
       "</div>"
      ],
      "text/plain": [
       "   product_id  quantity        date            name\n",
       "0          73         5  2020-12-08  Alexey_Fedorov\n",
       "1          34         1  2020-12-08  Alexey_Fedorov\n",
       "2          71         1  2020-12-08  Alexey_Fedorov\n",
       "3          18         2  2020-12-08  Alexey_Fedorov\n",
       "4          67         2  2020-12-08  Alexey_Fedorov"
      ]
     },
     "execution_count": 54,
     "metadata": {},
     "output_type": "execute_result"
    }
   ],
   "source": [
    "df.drop(columns=['Unnamed: 0'], inplace=True)\n",
    "df.head()"
   ]
  },
  {
   "cell_type": "code",
   "execution_count": 55,
   "id": "f23414d0-5db4-400a-bba5-37068bc72857",
   "metadata": {},
   "outputs": [
    {
     "data": {
      "text/html": [
       "<div>\n",
       "<style scoped>\n",
       "    .dataframe tbody tr th:only-of-type {\n",
       "        vertical-align: middle;\n",
       "    }\n",
       "\n",
       "    .dataframe tbody tr th {\n",
       "        vertical-align: top;\n",
       "    }\n",
       "\n",
       "    .dataframe thead th {\n",
       "        text-align: right;\n",
       "    }\n",
       "</style>\n",
       "<table border=\"1\" class=\"dataframe\">\n",
       "  <thead>\n",
       "    <tr style=\"text-align: right;\">\n",
       "      <th></th>\n",
       "      <th>product_id</th>\n",
       "      <th>quantity</th>\n",
       "      <th>date</th>\n",
       "      <th>name</th>\n",
       "    </tr>\n",
       "  </thead>\n",
       "  <tbody>\n",
       "    <tr>\n",
       "      <th>0</th>\n",
       "      <td>73</td>\n",
       "      <td>5</td>\n",
       "      <td>2020-12-08</td>\n",
       "      <td>Alexey_Fedorov</td>\n",
       "    </tr>\n",
       "    <tr>\n",
       "      <th>1</th>\n",
       "      <td>34</td>\n",
       "      <td>1</td>\n",
       "      <td>2020-12-08</td>\n",
       "      <td>Alexey_Fedorov</td>\n",
       "    </tr>\n",
       "    <tr>\n",
       "      <th>2</th>\n",
       "      <td>71</td>\n",
       "      <td>1</td>\n",
       "      <td>2020-12-08</td>\n",
       "      <td>Alexey_Fedorov</td>\n",
       "    </tr>\n",
       "    <tr>\n",
       "      <th>3</th>\n",
       "      <td>18</td>\n",
       "      <td>2</td>\n",
       "      <td>2020-12-08</td>\n",
       "      <td>Alexey_Fedorov</td>\n",
       "    </tr>\n",
       "    <tr>\n",
       "      <th>4</th>\n",
       "      <td>67</td>\n",
       "      <td>2</td>\n",
       "      <td>2020-12-08</td>\n",
       "      <td>Alexey_Fedorov</td>\n",
       "    </tr>\n",
       "  </tbody>\n",
       "</table>\n",
       "</div>"
      ],
      "text/plain": [
       "   product_id  quantity        date            name\n",
       "0          73         5  2020-12-08  Alexey_Fedorov\n",
       "1          34         1  2020-12-08  Alexey_Fedorov\n",
       "2          71         1  2020-12-08  Alexey_Fedorov\n",
       "3          18         2  2020-12-08  Alexey_Fedorov\n",
       "4          67         2  2020-12-08  Alexey_Fedorov"
      ]
     },
     "execution_count": 55,
     "metadata": {},
     "output_type": "execute_result"
    }
   ],
   "source": [
    "df.reset_index(drop=True, inplace=True)\n",
    "df.head()"
   ]
  },
  {
   "cell_type": "code",
   "execution_count": 63,
   "id": "c1b9ccbc-716a-471a-8330-ce8973e51d78",
   "metadata": {},
   "outputs": [
    {
     "data": {
      "text/html": [
       "<div>\n",
       "<style scoped>\n",
       "    .dataframe tbody tr th:only-of-type {\n",
       "        vertical-align: middle;\n",
       "    }\n",
       "\n",
       "    .dataframe tbody tr th {\n",
       "        vertical-align: top;\n",
       "    }\n",
       "\n",
       "    .dataframe thead th {\n",
       "        text-align: right;\n",
       "    }\n",
       "</style>\n",
       "<table border=\"1\" class=\"dataframe\">\n",
       "  <thead>\n",
       "    <tr style=\"text-align: right;\">\n",
       "      <th></th>\n",
       "      <th>quantity</th>\n",
       "    </tr>\n",
       "    <tr>\n",
       "      <th>name</th>\n",
       "      <th></th>\n",
       "    </tr>\n",
       "  </thead>\n",
       "  <tbody>\n",
       "    <tr>\n",
       "      <th>Alexey_Smirnov</th>\n",
       "      <td>52</td>\n",
       "    </tr>\n",
       "    <tr>\n",
       "      <th>Petr_Smirnov</th>\n",
       "      <td>52</td>\n",
       "    </tr>\n",
       "    <tr>\n",
       "      <th>Anton_Smirnov</th>\n",
       "      <td>45</td>\n",
       "    </tr>\n",
       "    <tr>\n",
       "      <th>Petr_Fedorov</th>\n",
       "      <td>34</td>\n",
       "    </tr>\n",
       "    <tr>\n",
       "      <th>Kirill_Fedorov</th>\n",
       "      <td>28</td>\n",
       "    </tr>\n",
       "  </tbody>\n",
       "</table>\n",
       "</div>"
      ],
      "text/plain": [
       "                quantity\n",
       "name                    \n",
       "Alexey_Smirnov        52\n",
       "Petr_Smirnov          52\n",
       "Anton_Smirnov         45\n",
       "Petr_Fedorov          34\n",
       "Kirill_Fedorov        28"
      ]
     },
     "execution_count": 63,
     "metadata": {},
     "output_type": "execute_result"
    }
   ],
   "source": [
    "# 2\n",
    "df.groupby('name') \\\n",
    "  .agg({'quantity':'sum'}) \\\n",
    "  .sort_values('quantity', ascending=False).head(5)"
   ]
  },
  {
   "cell_type": "code",
   "execution_count": 64,
   "id": "7d7c294e-f2ea-448a-91df-3f698d5b3827",
   "metadata": {},
   "outputs": [],
   "source": [
    "# Alexey_Smirnov, Petr_Smirnov"
   ]
  },
  {
   "cell_type": "code",
   "execution_count": 69,
   "id": "4b769366-0a2f-4fbc-93fa-7b65bbe0b38d",
   "metadata": {},
   "outputs": [],
   "source": [
    "# 3\n",
    "products_sells = df.groupby('product_id', as_index=False) \\\n",
    "                   .agg({'quantity':'sum'}) \\\n",
    "                   .sort_values('quantity', ascending=False).head(10)"
   ]
  },
  {
   "cell_type": "code",
   "execution_count": 72,
   "id": "23005fa6-a40e-4950-a930-6b2262c84d7c",
   "metadata": {},
   "outputs": [
    {
     "data": {
      "text/plain": [
       "<Axes: xlabel='product_id', ylabel='quantity'>"
      ]
     },
     "execution_count": 72,
     "metadata": {},
     "output_type": "execute_result"
    },
    {
     "data": {
      "image/png": "[encoded data removed]",
      "text/plain": [
       "<Figure size 640x480 with 1 Axes>"
      ]
     },
     "metadata": {},
     "output_type": "display_data"
    }
   ],
   "source": [
    "import seaborn as sns\n",
    "\n",
    "sns.barplot(data=products_sells, x='product_id', y='quantity')"
   ]
  },
  {
   "cell_type": "code",
   "execution_count": 74,
   "id": "4e640e9a-4e84-40ac-9afb-0216a6da6e16",
   "metadata": {},
   "outputs": [
    {
     "data": {
      "text/plain": [
       "<Axes: xlabel='date', ylabel='quantity'>"
      ]
     },
     "execution_count": 74,
     "metadata": {},
     "output_type": "execute_result"
    },
    {
     "data": {
      "image/png": "[encoded data removed]",
      "text/plain": [
       "<Figure size 640x480 with 1 Axes>"
      ]
     },
     "metadata": {},
     "output_type": "display_data"
    }
   ],
   "source": [
    "# 4\n",
    "dates_sells = df.groupby('date', as_index=False) \\\n",
    "                .agg({'quantity':'sum'}) \\\n",
    "                .sort_values('date', ascending=False).head(10)\n",
    "\n",
    "import matplotlib.pyplot as plt\n",
    "plt.xticks(rotation=45)\n",
    "\n",
    "sns.barplot(data=dates_sells, x='date', y='quantity')"
   ]
  },
  {
   "cell_type": "code",
   "execution_count": 81,
   "id": "309b6219-edba-41f6-9598-3aac27d748da",
   "metadata": {},
   "outputs": [
    {
     "data": {
      "text/html": [
       "<div>\n",
       "<style scoped>\n",
       "    .dataframe tbody tr th:only-of-type {\n",
       "        vertical-align: middle;\n",
       "    }\n",
       "\n",
       "    .dataframe tbody tr th {\n",
       "        vertical-align: top;\n",
       "    }\n",
       "\n",
       "    .dataframe thead th {\n",
       "        text-align: right;\n",
       "    }\n",
       "</style>\n",
       "<table border=\"1\" class=\"dataframe\">\n",
       "  <thead>\n",
       "    <tr style=\"text-align: right;\">\n",
       "      <th></th>\n",
       "      <th></th>\n",
       "      <th>date</th>\n",
       "    </tr>\n",
       "    <tr>\n",
       "      <th>name</th>\n",
       "      <th>product_id</th>\n",
       "      <th></th>\n",
       "    </tr>\n",
       "  </thead>\n",
       "  <tbody>\n",
       "    <tr>\n",
       "      <th>Anton_Ivanov</th>\n",
       "      <th>15</th>\n",
       "      <td>2</td>\n",
       "    </tr>\n",
       "    <tr>\n",
       "      <th>Petr_Fedorov</th>\n",
       "      <th>94</th>\n",
       "      <td>2</td>\n",
       "    </tr>\n",
       "  </tbody>\n",
       "</table>\n",
       "</div>"
      ],
      "text/plain": [
       "                         date\n",
       "name         product_id      \n",
       "Anton_Ivanov 15             2\n",
       "Petr_Fedorov 94             2"
      ]
     },
     "execution_count": 81,
     "metadata": {},
     "output_type": "execute_result"
    }
   ],
   "source": [
    "# 5\n",
    "df.groupby(['name', 'product_id']) \\\n",
    "  .agg({'date': pd.Series.nunique}) \\\n",
    "  .query('date > 1')"
   ]
  }
 ],
 "metadata": {
  "kernelspec": {
   "display_name": "Python 3 (ipykernel)",
   "language": "python",
   "name": "python3"
  },
  "language_info": {
   "codemirror_mode": {
    "name": "ipython",
    "version": 3
   },
   "file_extension": ".py",
   "mimetype": "text/x-python",
   "name": "python",
   "nbconvert_exporter": "python",
   "pygments_lexer": "ipython3",
   "version": "3.8.10"
  }
 },
 "nbformat": 4,
 "nbformat_minor": 5
}
