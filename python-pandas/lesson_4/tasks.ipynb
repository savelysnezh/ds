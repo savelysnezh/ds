{
 "cells": [
  {
   "cell_type": "markdown",
   "id": "6b44255d-e74a-4251-9a9d-21eb21106975",
   "metadata": {},
   "source": [
    "В переменной df находится датафрэйм. Запишите в переменную  df_shape строку с информацией о том, сколько строк и столбцов он содержит, в следующем виде: <br>\n",
    "'df has y rows and x columns' <br>\n",
    "где y — число строк, а x — число колонок."
   ]
  },
  {
   "cell_type": "code",
   "execution_count": 2,
   "id": "c0585fa8-2d5a-4a7c-aed3-f736bbb65cd5",
   "metadata": {},
   "outputs": [],
   "source": [
    "# df_shape = f'df has {df.shape[0]} rows and {df.shape[1]} columns'"
   ]
  },
  {
   "cell_type": "markdown",
   "id": "ac2366ba-2579-4eda-9b35-1a9399dd76b6",
   "metadata": {},
   "source": [
    "Сохраните в переменную na_number серию, в которой для каждой колонки будет указано, сколько пропущенных значений она содержит. <br>\n",
    "Note: датафрейм уже лежит в переменной df"
   ]
  },
  {
   "cell_type": "code",
   "execution_count": 3,
   "id": "705bafb8-adec-4772-96f3-3feee565a7d9",
   "metadata": {},
   "outputs": [],
   "source": [
    "# na_number = df.isna().sum()"
   ]
  },
  {
   "cell_type": "markdown",
   "id": "45f8bc52-a461-4b19-a9e5-e8ba3c082e5a",
   "metadata": {},
   "source": [
    "Сохраните в переменную df_types типы данных каждой колонки датафрэйма df."
   ]
  },
  {
   "cell_type": "code",
   "execution_count": 4,
   "id": "0f6fd5e1-4838-47a3-93a2-26179a745c6f",
   "metadata": {},
   "outputs": [],
   "source": [
    "# df_types = df.dtypes"
   ]
  },
  {
   "cell_type": "markdown",
   "id": "1fecbbe1-ad9e-4be0-8bb3-147e438fa26f",
   "metadata": {},
   "source": [
    "Внезапно оказалось, что в колонке age значения хранятся в виде строк! Поменяйте тип значений на целочисленный в этой колонке датафрэйма df."
   ]
  },
  {
   "cell_type": "code",
   "execution_count": 5,
   "id": "81f9cd65-279f-47e5-8c58-52a1b84c496f",
   "metadata": {},
   "outputs": [],
   "source": [
    "# df = df.astype({'age':'int'})"
   ]
  },
  {
   "cell_type": "markdown",
   "id": "3ddc1c92-0517-4f88-b6dd-b0046cd74b0e",
   "metadata": {},
   "source": [
    "Как выяснилось, для дальнейшего анализа нам не понадобятся колонки sex и age – удалите их из датафрэйма."
   ]
  },
  {
   "cell_type": "code",
   "execution_count": 6,
   "id": "bc0ffd66-e097-4a12-b2ae-2f986f189062",
   "metadata": {},
   "outputs": [],
   "source": [
    "# df = df.drop(columns=['sex', 'age'])"
   ]
  },
  {
   "cell_type": "code",
   "execution_count": null,
   "id": "c9a35f53-785e-4e7a-8858-5a1a12d2a266",
   "metadata": {},
   "outputs": [],
   "source": [
    "А теперь проверим, есть ли в нашей таблице df дубликаты по полю client_id. Сохраните в переменную df датафрейм, в котором не будет дубликатов по колонке client_id, оставив первую строку с id"
   ]
  },
  {
   "cell_type": "code",
   "execution_count": 7,
   "id": "8b0ecb99-cf79-485c-8dcf-426c71d2e79f",
   "metadata": {},
   "outputs": [],
   "source": [
    "# df = df.drop_duplicates(subset='client_id')"
   ]
  },
  {
   "cell_type": "markdown",
   "id": "c43c9321-5bc0-4b77-9016-925c2e52fc7b",
   "metadata": {},
   "source": [
    "В списке numbers содержатся числа. Добавьте через цикл в список positive_numbers положительные числа из numbers. Если вам попался 0, то нужно прекратить этот цикл."
   ]
  },
  {
   "cell_type": "code",
   "execution_count": 9,
   "id": "15edb8b6-1d8a-4a2b-aa7c-db3614bca840",
   "metadata": {},
   "outputs": [
    {
     "data": {
      "text/plain": [
       "[1, 3]"
      ]
     },
     "execution_count": 9,
     "metadata": {},
     "output_type": "execute_result"
    }
   ],
   "source": [
    "numbers = [1, -2, 3, 0, -3, 2]\n",
    "\n",
    "positive_numbers = []\n",
    "for n in numbers:\n",
    "    if n == 0:\n",
    "        break\n",
    "    if n >= 1:\n",
    "        positive_numbers.append(n)\n",
    "positive_numbers"
   ]
  },
  {
   "cell_type": "markdown",
   "id": "3bce7b68-e9c1-475d-b00b-0f586de2ce99",
   "metadata": {},
   "source": [
    "Ссылка на датасет находится в переменной path_to_file. Сохраните данные в переменную taxi, разделитель — ;. "
   ]
  },
  {
   "cell_type": "markdown",
   "id": "1d816559-991b-4231-b138-1178a5be4faf",
   "metadata": {},
   "source": [
    "Затем приведите столбцы start_at, end_at, arrived_at к формату даты, используя pd.to_datetime(). Отфильтруйте данные и оставьте наблюдения со статусом заказа \"asap\" и \"reserved\" (start_type) ."
   ]
  },
  {
   "cell_type": "code",
   "execution_count": 10,
   "id": "4fdb2351-95f2-4686-a1d4-ce8be4b93711",
   "metadata": {},
   "outputs": [],
   "source": [
    "# import pandas as pd\n",
    "\n",
    "# taxi = pd.read_csv(path_to_file, sep=\";\")\n",
    "\n",
    "# taxi['start_at'] = pd.to_datetime(taxi['start_at'])\n",
    "# taxi['end_at'] = pd.to_datetime(taxi['end_at'])\n",
    "# taxi['arrived_at'] = pd.to_datetime(taxi['arrived_at'])\n",
    "\n",
    "# taxi = taxi.query('start_type == \"asap\" or start_type == \"reserved\"')"
   ]
  },
  {
   "cell_type": "markdown",
   "id": "232f2241-6195-47aa-be9d-dc795fd89ea7",
   "metadata": {},
   "source": [
    "Создайте колонку wait_time, в которой будет храниться разница между временем подачи машины (arrived_at) и временем заказа (start_at) в минутах. "
   ]
  },
  {
   "cell_type": "markdown",
   "id": "8bea81c4-2d21-4e0c-8128-6c9d3818c524",
   "metadata": {},
   "source": [
    "Данные загружены в taxi и отфильтрованы."
   ]
  },
  {
   "cell_type": "code",
   "execution_count": 12,
   "id": "aab7ef92-da56-4f9b-8840-b5bb25ad1226",
   "metadata": {},
   "outputs": [],
   "source": [
    "# taxi['wait_time'] = taxi['arrived_at'] - taxi['start_at']\n",
    "# taxi['wait_time'] = taxi.wait_time.astype('timedelta64[m]')"
   ]
  },
  {
   "cell_type": "markdown",
   "id": "aebdc9d5-f21e-4c1b-b3a4-3d2b8ab8e58e",
   "metadata": {},
   "source": [
    "Добавьте столбец month, где будет храниться номер месяца, в котором был сделан заказ (start_at),  и столбец weekday – название дня недели. "
   ]
  },
  {
   "cell_type": "markdown",
   "id": "f8c0354c-7366-426b-962e-57324b09fc2d",
   "metadata": {},
   "source": [
    "Данные загружены в taxi и отфильтрованы"
   ]
  },
  {
   "cell_type": "code",
   "execution_count": 13,
   "id": "d08e43d4-d884-4ca5-af77-a417cb203ac2",
   "metadata": {},
   "outputs": [],
   "source": [
    "# taxi['month'] = taxi['start_at'].dt.strftime('%m')\n",
    "# taxi = taxi.astype({'month':'int'})\n",
    "# taxi['weekday'] = taxi.start_at.dt.strftime('%A')"
   ]
  }
 ],
 "metadata": {
  "kernelspec": {
   "display_name": "Python 3 (ipykernel)",
   "language": "python",
   "name": "python3"
  },
  "language_info": {
   "codemirror_mode": {
    "name": "ipython",
    "version": 3
   },
   "file_extension": ".py",
   "mimetype": "text/x-python",
   "name": "python",
   "nbconvert_exporter": "python",
   "pygments_lexer": "ipython3",
   "version": "3.8.10"
  }
 },
 "nbformat": 4,
 "nbformat_minor": 5
}
